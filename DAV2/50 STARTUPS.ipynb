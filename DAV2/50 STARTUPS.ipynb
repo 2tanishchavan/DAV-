{
 "cells": [
  {
   "cell_type": "code",
   "execution_count": 2,
   "id": "1ac9bdb2-f92a-4035-974f-d10a1853ae64",
   "metadata": {},
   "outputs": [
    {
     "name": "stdout",
     "output_type": "stream",
     "text": [
      "Training RMSE: 8927.489013300052\n",
      "Testing RMSE: 9055.95732349782\n"
     ]
    }
   ],
   "source": [
    "import pandas as pd\n",
    "from sklearn.model_selection import train_test_split\n",
    "from sklearn.linear_model import LinearRegression,\n",
    "from sklearn.compose import ColumnTransformer\n",
    "from sklearn.preprocessing import OneHotEncoder\n",
    "from sklearn.pipeline import Pipeline\n",
    "from sklearn.metrics import mean_squared_error\n",
    "\n",
    "# Load the dataset\n",
    "startup_data = pd.read_csv('50_Startups.csv')\n",
    "\n",
    "# Separate features and target variable\n",
    "X = startup_data.drop(columns=[\"Profit\"])\n",
    "y = startup_data[\"Profit\"]\n",
    "\n",
    "# Split the dataset into training and testing sets\n",
    "X_train, X_test, y_train, y_test = train_test_split(X, y, test_size=0.2, random_state=42)\n",
    "\n",
    "# Define the column transformer to handle categorical variables\n",
    "# In this case, we'll use OneHotEncoder to encode the 'State' column\n",
    "# The rest of the columns will be passed through\n",
    "categorical_features = ['State']\n",
    "numeric_features = list(set(X.columns) - set(categorical_features))\n",
    "\n",
    "preprocessor = ColumnTransformer(\n",
    "    transformers=[\n",
    "        ('num', 'passthrough', numeric_features),\n",
    "        ('cat', OneHotEncoder(), categorical_features)])\n",
    "\n",
    "# Define the pipeline with preprocessing and the model\n",
    "pipeline = Pipeline(steps=[('preprocessor', preprocessor),\n",
    "                           ('model', LinearRegression())])\n",
    "\n",
    "# Train the model\n",
    "pipeline.fit(X_train, y_train)\n",
    "\n",
    "# Evaluate the model\n",
    "train_rmse = mean_squared_error(y_train, pipeline.predict(X_train), squared=False)\n",
    "test_rmse = mean_squared_error(y_test, pipeline.predict(X_test), squared=False)\n",
    "\n",
    "print(\"Training RMSE:\", train_rmse)\n",
    "print(\"Testing RMSE:\", test_rmse)\n"
   ]
  },
  {
   "cell_type": "code",
   "execution_count": 9,
   "id": "f2132541-536b-4261-8ae1-c31e55558c52",
   "metadata": {},
   "outputs": [
    {
     "name": "stdout",
     "output_type": "stream",
     "text": [
      "Mean Absolute Error 6961.477813275563\n",
      "Mean Square Error 82010363.04501379\n",
      "R2 0.8987266414319836\n",
      "Root Mean Square Error 9055.95732349782\n",
      "Mean Absolute Percentage Error 0.10278189896425191\n"
     ]
    }
   ],
   "source": [
    "from sklearn.metrics import mean_absolute_error,mean_squared_error, mean_absolute_percentage_error ,r2_score\n",
    "\n",
    "Y_pred = pipeline.predict(X_test)\n",
    "mae = mean_absolute_error(y_true=y_test, \n",
    "                          y_pred=Y_pred) \n",
    "print(\"Mean Absolute Error\", mae) \n",
    "\n",
    "mse = mean_squared_error(y_true=y_test, \n",
    "                         y_pred=Y_pred) \n",
    "print(\"Mean Square Error\", mse)\n",
    "\n",
    "r2 = r2_score(y_true=y_test, \n",
    "                         y_pred=Y_pred) \n",
    "print(\"R2\", r2)\n",
    "\n",
    "rmse = mean_squared_error(y_true=y_test, \n",
    "                          y_pred=Y_pred, \n",
    "                          squared=False) \n",
    "print(\"Root Mean Square Error\", rmse) \n",
    "\n",
    "mape = mean_absolute_percentage_error(y_test, \n",
    "                                      Y_pred, \n",
    "                                      sample_weight=None, \n",
    "                                      multioutput='uniform_average') \n",
    "print(\"Mean Absolute Percentage Error\", mape) "
   ]
  }
 ],
 "metadata": {
  "kernelspec": {
   "display_name": "Python 3 (ipykernel)",
   "language": "python",
   "name": "python3"
  },
  "language_info": {
   "codemirror_mode": {
    "name": "ipython",
    "version": 3
   },
   "file_extension": ".py",
   "mimetype": "text/x-python",
   "name": "python",
   "nbconvert_exporter": "python",
   "pygments_lexer": "ipython3",
   "version": "3.11.5"
  }
 },
 "nbformat": 4,
 "nbformat_minor": 5
}
